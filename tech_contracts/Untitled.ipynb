{
 "cells": [
  {
   "cell_type": "code",
   "execution_count": 1,
   "metadata": {},
   "outputs": [],
   "source": [
    "import requests\n",
    "import json\n",
    "import csv\n",
    "import numpy as np\n",
    "import pandas as pd\n",
    "import matplotlib.pyplot as plt\n",
    "import csv\n"
   ]
  },
  {
   "cell_type": "code",
   "execution_count": 18,
   "metadata": {},
   "outputs": [
    {
     "name": "stdout",
     "output_type": "stream",
     "text": [
      "<class 'pandas.core.frame.DataFrame'>\n",
      "RangeIndex: 5183 entries, 0 to 5182\n",
      "Data columns (total 26 columns):\n",
      "Contract ID                         5183 non-null object\n",
      "Reference IDV                       1799 non-null object\n",
      "Modification Number                 5183 non-null object\n",
      "Transaction Number                  5183 non-null int64\n",
      "Award/IDV Type                      5183 non-null object\n",
      "Action Obligation ($)               5183 non-null object\n",
      "Date Signed                         5183 non-null object\n",
      "Solicitation Date                   25 non-null object\n",
      "Contracting Agency ID               5178 non-null object\n",
      "Contracting Agency                  5178 non-null object\n",
      "Contracting Office Name             5113 non-null object\n",
      "PSC Type                            5183 non-null object\n",
      "PSC                                 5152 non-null object\n",
      "PSC Description                     5152 non-null object\n",
      "NAICS                               4838 non-null float64\n",
      "NAICS Description                   4836 non-null object\n",
      "Vendor DUNS                         5183 non-null int64\n",
      "Vendor Name                         5179 non-null object\n",
      "Vendor City                         5165 non-null object\n",
      "Vendor State                        5162 non-null object\n",
      "Vendor ZIP Code                     5165 non-null object\n",
      "Global DUNS Number                  5183 non-null int64\n",
      "Global Vendor Name                  5175 non-null object\n",
      "Additional Reporting Code           438 non-null object\n",
      "Additional Reporting Description    438 non-null object\n",
      "Unnamed: 25                         0 non-null float64\n",
      "dtypes: float64(2), int64(3), object(21)\n",
      "memory usage: 1.0+ MB\n"
     ]
    }
   ],
   "source": [
    "csv_path = r\"C:\\Users\\erick\\Projects\\tech_contracts\\gov.contracts_info.csv\"\n",
    "contracts = pd.read_csv(csv_path, encoding = \"ISO-8859-1\")\n",
    "contracts.head(10)\n",
    "contracts.info()"
   ]
  },
  {
   "cell_type": "code",
   "execution_count": 22,
   "metadata": {},
   "outputs": [
    {
     "data": {
      "text/html": [
       "<div>\n",
       "<style scoped>\n",
       "    .dataframe tbody tr th:only-of-type {\n",
       "        vertical-align: middle;\n",
       "    }\n",
       "\n",
       "    .dataframe tbody tr th {\n",
       "        vertical-align: top;\n",
       "    }\n",
       "\n",
       "    .dataframe thead th {\n",
       "        text-align: right;\n",
       "    }\n",
       "</style>\n",
       "<table border=\"1\" class=\"dataframe\">\n",
       "  <thead>\n",
       "    <tr style=\"text-align: right;\">\n",
       "      <th></th>\n",
       "      <th>PSC Type</th>\n",
       "      <th>PSC Description</th>\n",
       "      <th>Vendor State</th>\n",
       "      <th>Vendor Name</th>\n",
       "      <th>Date Signed</th>\n",
       "    </tr>\n",
       "  </thead>\n",
       "  <tbody>\n",
       "    <tr>\n",
       "      <th>0</th>\n",
       "      <td>P</td>\n",
       "      <td>TRAILERS</td>\n",
       "      <td>NaN</td>\n",
       "      <td>SBA DENVER</td>\n",
       "      <td>Dec 15, 1989</td>\n",
       "    </tr>\n",
       "    <tr>\n",
       "      <th>1</th>\n",
       "      <td>S</td>\n",
       "      <td>ADP SYSTEMS DEVELOPMENT SERVICES</td>\n",
       "      <td>NaN</td>\n",
       "      <td>NaN</td>\n",
       "      <td>Apr 15, 1987</td>\n",
       "    </tr>\n",
       "    <tr>\n",
       "      <th>2</th>\n",
       "      <td>S</td>\n",
       "      <td>ADP DATA ENTRY SERVICES</td>\n",
       "      <td>NaN</td>\n",
       "      <td>SBA ADVANCE INCORPORATED</td>\n",
       "      <td>Jul 15, 1990</td>\n",
       "    </tr>\n",
       "    <tr>\n",
       "      <th>3</th>\n",
       "      <td>S</td>\n",
       "      <td>PROGRAM MANAGEMENT/SUPPORT SERVICES</td>\n",
       "      <td>VA</td>\n",
       "      <td>INTEGRATED SYSTEMS CONTROL, IN</td>\n",
       "      <td>Jan 26, 1999</td>\n",
       "    </tr>\n",
       "    <tr>\n",
       "      <th>4</th>\n",
       "      <td>S</td>\n",
       "      <td>MAINT, REP/ALTER/ALL OTHER</td>\n",
       "      <td>KS</td>\n",
       "      <td>SBA CONSTRUCTION COMPANY INCORPORATED</td>\n",
       "      <td>Sep 26, 2007</td>\n",
       "    </tr>\n",
       "  </tbody>\n",
       "</table>\n",
       "</div>"
      ],
      "text/plain": [
       "  PSC Type                      PSC Description Vendor State  \\\n",
       "0        P                             TRAILERS          NaN   \n",
       "1        S     ADP SYSTEMS DEVELOPMENT SERVICES          NaN   \n",
       "2        S              ADP DATA ENTRY SERVICES          NaN   \n",
       "3        S  PROGRAM MANAGEMENT/SUPPORT SERVICES           VA   \n",
       "4        S           MAINT, REP/ALTER/ALL OTHER           KS   \n",
       "\n",
       "                             Vendor Name   Date Signed  \n",
       "0                             SBA DENVER  Dec 15, 1989  \n",
       "1                                    NaN  Apr 15, 1987  \n",
       "2               SBA ADVANCE INCORPORATED  Jul 15, 1990  \n",
       "3         INTEGRATED SYSTEMS CONTROL, IN  Jan 26, 1999  \n",
       "4  SBA CONSTRUCTION COMPANY INCORPORATED  Sep 26, 2007  "
      ]
     },
     "execution_count": 22,
     "metadata": {},
     "output_type": "execute_result"
    }
   ],
   "source": [
    "contracts = contracts[['PSC Type', 'PSC Description','Vendor State', 'Vendor Name', 'Date Signed']]\n",
    "contracts.head()"
   ]
  },
  {
   "cell_type": "code",
   "execution_count": 21,
   "metadata": {},
   "outputs": [
    {
     "name": "stdout",
     "output_type": "stream",
     "text": [
      "<class 'pandas.core.frame.DataFrame'>\n",
      "RangeIndex: 5183 entries, 0 to 5182\n",
      "Data columns (total 5 columns):\n",
      "PSC Type           5183 non-null object\n",
      "PSC Description    5152 non-null object\n",
      "Vendor State       5162 non-null object\n",
      "Vendor Name        5179 non-null object\n",
      "Date Signed        5183 non-null object\n",
      "dtypes: object(5)\n",
      "memory usage: 202.5+ KB\n"
     ]
    }
   ],
   "source": [
    "contracts.info()"
   ]
  },
  {
   "cell_type": "code",
   "execution_count": 25,
   "metadata": {},
   "outputs": [
    {
     "data": {
      "text/html": [
       "<div>\n",
       "<style scoped>\n",
       "    .dataframe tbody tr th:only-of-type {\n",
       "        vertical-align: middle;\n",
       "    }\n",
       "\n",
       "    .dataframe tbody tr th {\n",
       "        vertical-align: top;\n",
       "    }\n",
       "\n",
       "    .dataframe thead th {\n",
       "        text-align: right;\n",
       "    }\n",
       "</style>\n",
       "<table border=\"1\" class=\"dataframe\">\n",
       "  <thead>\n",
       "    <tr style=\"text-align: right;\">\n",
       "      <th></th>\n",
       "      <th>PSC Type</th>\n",
       "      <th>PSC Description</th>\n",
       "      <th>Vendor State</th>\n",
       "      <th>Vendor Name</th>\n",
       "      <th>Date Signed</th>\n",
       "    </tr>\n",
       "  </thead>\n",
       "  <tbody>\n",
       "    <tr>\n",
       "      <th>3</th>\n",
       "      <td>S</td>\n",
       "      <td>PROGRAM MANAGEMENT/SUPPORT SERVICES</td>\n",
       "      <td>VA</td>\n",
       "      <td>INTEGRATED SYSTEMS CONTROL, IN</td>\n",
       "      <td>Jan 26, 1999</td>\n",
       "    </tr>\n",
       "    <tr>\n",
       "      <th>4</th>\n",
       "      <td>S</td>\n",
       "      <td>MAINT, REP/ALTER/ALL OTHER</td>\n",
       "      <td>KS</td>\n",
       "      <td>SBA CONSTRUCTION COMPANY INCORPORATED</td>\n",
       "      <td>Sep 26, 2007</td>\n",
       "    </tr>\n",
       "    <tr>\n",
       "      <th>5</th>\n",
       "      <td>S</td>\n",
       "      <td>CONSTRUCTION OF OTHER ADMINISTRATIVE FACILITIE...</td>\n",
       "      <td>KS</td>\n",
       "      <td>SBA CONSTRUCTION COMPANY</td>\n",
       "      <td>Sep 9, 2015</td>\n",
       "    </tr>\n",
       "    <tr>\n",
       "      <th>6</th>\n",
       "      <td>S</td>\n",
       "      <td>PROGRAM MANAGEMENT/SUPPORT SERVICES</td>\n",
       "      <td>VA</td>\n",
       "      <td>INTEGRATED SYSTEMS CONTROL, IN</td>\n",
       "      <td>Feb 5, 1999</td>\n",
       "    </tr>\n",
       "    <tr>\n",
       "      <th>7</th>\n",
       "      <td>S</td>\n",
       "      <td>MAINT, REP/ALTER/ALL OTHER</td>\n",
       "      <td>KS</td>\n",
       "      <td>SBA CONSTRUCTION COMPANY INCORPORATED</td>\n",
       "      <td>Sep 26, 2007</td>\n",
       "    </tr>\n",
       "  </tbody>\n",
       "</table>\n",
       "</div>"
      ],
      "text/plain": [
       "  PSC Type                                    PSC Description Vendor State  \\\n",
       "3        S                PROGRAM MANAGEMENT/SUPPORT SERVICES           VA   \n",
       "4        S                         MAINT, REP/ALTER/ALL OTHER           KS   \n",
       "5        S  CONSTRUCTION OF OTHER ADMINISTRATIVE FACILITIE...           KS   \n",
       "6        S                PROGRAM MANAGEMENT/SUPPORT SERVICES           VA   \n",
       "7        S                         MAINT, REP/ALTER/ALL OTHER           KS   \n",
       "\n",
       "                             Vendor Name   Date Signed  \n",
       "3         INTEGRATED SYSTEMS CONTROL, IN  Jan 26, 1999  \n",
       "4  SBA CONSTRUCTION COMPANY INCORPORATED  Sep 26, 2007  \n",
       "5               SBA CONSTRUCTION COMPANY   Sep 9, 2015  \n",
       "6         INTEGRATED SYSTEMS CONTROL, IN   Feb 5, 1999  \n",
       "7  SBA CONSTRUCTION COMPANY INCORPORATED  Sep 26, 2007  "
      ]
     },
     "execution_count": 25,
     "metadata": {},
     "output_type": "execute_result"
    }
   ],
   "source": [
    "contracts_dropna=contracts[['PSC Type', 'PSC Description','Vendor State', 'Vendor Name', 'Date Signed']].dropna()\n",
    "contracts_dropna.head()"
   ]
  },
  {
   "cell_type": "code",
   "execution_count": 26,
   "metadata": {},
   "outputs": [
    {
     "name": "stdout",
     "output_type": "stream",
     "text": [
      "<class 'pandas.core.frame.DataFrame'>\n",
      "Int64Index: 5128 entries, 3 to 5182\n",
      "Data columns (total 5 columns):\n",
      "PSC Type           5128 non-null object\n",
      "PSC Description    5128 non-null object\n",
      "Vendor State       5128 non-null object\n",
      "Vendor Name        5128 non-null object\n",
      "Date Signed        5128 non-null object\n",
      "dtypes: object(5)\n",
      "memory usage: 240.4+ KB\n"
     ]
    }
   ],
   "source": [
    "contracts_dropna.info()"
   ]
  }
 ],
 "metadata": {
  "kernelspec": {
   "display_name": "Python 3",
   "language": "python",
   "name": "python3"
  },
  "language_info": {
   "codemirror_mode": {
    "name": "ipython",
    "version": 3
   },
   "file_extension": ".py",
   "mimetype": "text/x-python",
   "name": "python",
   "nbconvert_exporter": "python",
   "pygments_lexer": "ipython3",
   "version": "3.7.3"
  }
 },
 "nbformat": 4,
 "nbformat_minor": 2
}
